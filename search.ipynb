{
 "cells": [
  {
   "attachments": {},
   "cell_type": "markdown",
   "metadata": {},
   "source": [
    "## Six Frogs and Seven Poles"
   ]
  },
  {
   "cell_type": "code",
   "execution_count": 28,
   "metadata": {},
   "outputs": [],
   "source": [
    "start = 'abc-uvw'\n",
    "goal = 'uvw-abc'\n",
    "right = 'abc'\n",
    "left = 'uvw'"
   ]
  },
  {
   "cell_type": "code",
   "execution_count": 27,
   "metadata": {},
   "outputs": [],
   "source": [
    "def swap(state, i, j):\n",
    "    return state[:i]+state[j]+state[i+1:j]+state[i]+state[j+1:]"
   ]
  },
  {
   "cell_type": "code",
   "execution_count": 29,
   "metadata": {},
   "outputs": [],
   "source": [
    "def apply(state, tbm):\n",
    "    i = state.index(tbm)\n",
    "    if tbm in right:\n",
    "        if i+1<len(state) and state[i+1]=='-':\n",
    "            return swap(state, i, i+1)\n",
    "        if i+2<len(state) and state[i+1]!='-' and state[i+2]=='-':\n",
    "            return swap(state, i, i+2)\n",
    "    if tbm in left:\n",
    "        if i-1>=0 and state[i-1]=='-':\n",
    "            return swap(state, i-1, i)\n",
    "        if i-2>=0 and state[i-1]!='-' and state[i-2]=='-':\n",
    "            return swap(state, i-2, i)\n",
    "        "
   ]
  },
  {
   "cell_type": "code",
   "execution_count": 26,
   "metadata": {},
   "outputs": [],
   "source": [
    "def nextMoves(state):\n",
    "    i = state.index('-')\n",
    "    #Possible swaps (to be moved)\n",
    "    tbm = []\n",
    "\n",
    "    if i-1>=0 and state[i-1] in right:\n",
    "        tbm.append(state[i-1])\n",
    "    if i-2>=0 and state[i-2] in right:\n",
    "        tbm.append(state[i-2])\n",
    "    if i+1<len(state) and state[i+1] in left:\n",
    "        tbm.append(state[i+1])\n",
    "    if i+2<len(state) and state[i+2] in left:\n",
    "        tbm.append(state[i+2])\n",
    "    return tbm"
   ]
  },
  {
   "cell_type": "code",
   "execution_count": 24,
   "metadata": {},
   "outputs": [],
   "source": [
    "def search1(start):\n",
    "    work = set([(\"\", start)])\n",
    "    cont = True\n",
    "    while (cont):\n",
    "        path, current = work.pop()\n",
    "        for k in nextMoves(current):\n",
    "            suc = apply(current, k)\n",
    "            work.add((path+k, suc))\n",
    "            if suc==goal:\n",
    "                print(path+k, \" is the path\")\n",
    "                cont = False\n",
    "                break"
   ]
  },
  {
   "cell_type": "code",
   "execution_count": 30,
   "metadata": {},
   "outputs": [
    {
     "name": "stdout",
     "output_type": "stream",
     "text": [
      "cuvcbauvwcbavwa  is the path\n"
     ]
    }
   ],
   "source": [
    "search1(start)"
   ]
  },
  {
   "attachments": {},
   "cell_type": "markdown",
   "metadata": {},
   "source": [
    "## Tiger, Goat, and Grass - first method "
   ]
  },
  {
   "cell_type": "code",
   "execution_count": 39,
   "metadata": {},
   "outputs": [
    {
     "name": "stdout",
     "output_type": "stream",
     "text": [
      "[True, True, True, True]\n",
      "[True, False, True, False]\n",
      "[True, False, True, True]\n",
      "[False, False, True, False]\n",
      "[True, False, False, False]\n",
      "[False, True, True, True]\n",
      "[True, True, False, True]\n",
      "[False, True, False, False]\n",
      "[False, True, False, True]\n",
      "[False, False, False, False]\n",
      "True\n"
     ]
    }
   ],
   "source": [
    "import copy\n",
    "constraints = [[True,True,False,False],[True,True,True,False],[False,True,True,False],[False,False,True,True],[False,False,False,True],[True,False,False,True]]#Tiger,Goat,Grass,Boat\n",
    "\n",
    "def getNextStates(curr):\n",
    "  states = []\n",
    "  temp = copy.deepcopy(curr)\n",
    "  \n",
    "  if temp[3] == True:\n",
    "    temp[3] = False\n",
    "  else:\n",
    "    temp[3] = True\n",
    "  states.append(temp)\n",
    "  temp = copy.deepcopy(curr)\n",
    "\n",
    "  if temp[3] == True:\n",
    "    temp[3] = False\n",
    "  else:\n",
    "    temp[3] = True\n",
    "\n",
    "  for i in range(3):\n",
    "    if temp[i] != temp[3]:\n",
    "      temp[i] = not temp[i]\n",
    "      states.append(temp)\n",
    "      temp = copy.deepcopy(curr)\n",
    "      if temp[3] == True:\n",
    "        temp[3] = False\n",
    "      else:\n",
    "        temp[3] = True\n",
    "  res = []\n",
    "  for i in states:\n",
    "    if i not in constraints:\n",
    "      res.append(i)\n",
    "  return res\n",
    "\n",
    "def manTiger(start, end):\n",
    "  queue = [start,]\n",
    "  visited = []\n",
    "  \n",
    "  while(len(queue)!=0):\n",
    "    #sorted(queue,key = sortFun)\n",
    "    curr = queue.pop(0)\n",
    "    print(curr)\n",
    "    if curr == end:\n",
    "      return True\n",
    "    visited.append(curr)\n",
    "    adjStates = getNextStates(curr)\n",
    "    for i in adjStates:\n",
    "      if i not in visited and i not in queue:\n",
    "        queue.append(i) \n",
    "  return False\n",
    "\n",
    "#Tiger,Goat,Grass,Boat\n",
    "initial = [True,True,True,True]\n",
    "target = [False,False,False,False]\n",
    "print(manTiger(initial,target))"
   ]
  },
  {
   "attachments": {},
   "cell_type": "markdown",
   "metadata": {},
   "source": [
    "## Water Jug"
   ]
  },
  {
   "cell_type": "code",
   "execution_count": 27,
   "metadata": {},
   "outputs": [
    {
     "name": "stdout",
     "output_type": "stream",
     "text": [
      "[0, 0]\n",
      "Queue :  [[4, 0], [0, 3]]\n",
      "[4, 0]\n",
      "Queue :  [[0, 3], [4, 3], [1, 3]]\n",
      "[0, 3]\n",
      "Queue :  [[4, 3], [1, 3], [3, 0]]\n",
      "[4, 3]\n",
      "Queue :  [[1, 3], [3, 0]]\n",
      "[1, 3]\n",
      "Queue :  [[3, 0], [1, 0]]\n",
      "[3, 0]\n",
      "Queue :  [[1, 0], [3, 3]]\n",
      "[1, 0]\n",
      "Queue :  [[3, 3], [0, 1]]\n",
      "[3, 3]\n",
      "Queue :  [[0, 1]]\n",
      "[0, 1]\n",
      "Queue :  [[4, 1]]\n",
      "[4, 1]\n",
      "Queue :  [[2, 3]]\n",
      "[2, 3]\n",
      "Goal Reached : 2 in 4\n"
     ]
    }
   ],
   "source": [
    "import copy\n",
    "def breadthFirstSearch(state):\n",
    "    Q=[]\n",
    "    Q.append(state)\n",
    "    visited=[]\n",
    "    visited.append(state)\n",
    "    while(len(Q)>0):\n",
    "        state=Q[0]\n",
    "        Q.pop(0)\n",
    "        print(state)\n",
    "        if(state[0]==2):\n",
    "            print(\"Goal Reached : 2 in 4\")\n",
    "            break\n",
    "        #case1:\n",
    "        state1=copy.deepcopy(state)\n",
    "        state1[0]=4\n",
    "        if(state1 not in visited):\n",
    "            Q.append(state1)\n",
    "            visited.append(state1)\n",
    "            #print(\"Case1 : \",state1)\n",
    "        #case2\n",
    "        state1=copy.deepcopy(state)\n",
    "        state1[1]=3\n",
    "        if(state1 not in visited):\n",
    "            Q.append(state1)\n",
    "            visited.append(state1)\n",
    "            #print(\"Case2 : \",state1)\n",
    "        #case3\n",
    "        state1=copy.deepcopy(state)\n",
    "        state1[0]=0\n",
    "        if(state1 not in visited):\n",
    "            Q.append(state1)\n",
    "            visited.append(state1)\n",
    "            #print(\"Case3 : \",state1)\n",
    "        #case4\n",
    "        state1=copy.deepcopy(state)\n",
    "        state1[1]=0\n",
    "        if(state1 not in visited):\n",
    "            Q.append(state1)\n",
    "            visited.append(state1)\n",
    "            #print(\"Case4 : \",state1)\n",
    "        #case5\n",
    "        state1=copy.deepcopy(state)\n",
    "        if((state1[0]+state1[1])>4):\n",
    "            state1[0]=4\n",
    "            state1[1]=state[1]-(4-state1[0])\n",
    "        else:\n",
    "            state1[0]=state1[0]+state1[1]\n",
    "            state1[1]=0\n",
    "        if(state1 not in visited):\n",
    "            Q.append(state1)\n",
    "            visited.append(state1)\n",
    "            #print(\"Case5 : \",state1)\n",
    "        #case6\n",
    "        state1=copy.deepcopy(state)\n",
    "        if((state1[0]+state1[1])>3):\n",
    "            state1[0]=state1[0]-(3-state1[1])\n",
    "            state1[1]=3\n",
    "        else:\n",
    "            state1[1]=state1[0]+state1[1]\n",
    "            state1[0]=0\n",
    "        if(state1 not in visited):\n",
    "            Q.append(state1)\n",
    "            visited.append(state1)\n",
    "            #print(\"Case6 : \",state1)\n",
    "        print(\"Queue : \",Q)\n",
    "        #print(visited)\n",
    "        \n",
    "        \n",
    "state=[0,0]\n",
    "breadthFirstSearch(state)"
   ]
  },
  {
   "attachments": {},
   "cell_type": "markdown",
   "metadata": {},
   "source": [
    "## Tiger, Goat, and Grass - second method"
   ]
  },
  {
   "cell_type": "code",
   "execution_count": 8,
   "metadata": {},
   "outputs": [],
   "source": [
    "from collections import namedtuple\n",
    "from enum import Enum\n",
    "from functools import partial"
   ]
  },
  {
   "cell_type": "code",
   "execution_count": 38,
   "metadata": {},
   "outputs": [],
   "source": [
    "State = namedtuple(\"State\", [\"man\", \"grass\", \"goat\", \"tiger\"])\n",
    "Location = Enum(\"Location\", ['A', 'B'])\n",
    "start = State(man = Location.A, grass = Location.A, goat = Location.A, tiger = Location.A)\n",
    "goal = State(man = Location.B, grass = Location.B, goat = Location.B, tiger = Location.B)"
   ]
  },
  {
   "cell_type": "code",
   "execution_count": 34,
   "metadata": {},
   "outputs": [],
   "source": [
    "def isValid1(state):\n",
    "    goatEat = state.goat==state.grass and state.man!=state.goat\n",
    "    tigerEat = state.goat==state.tiger and state.man!=state.goat\n",
    "    invalid = goatEat or tigerEat\n",
    "    return not invalid"
   ]
  },
  {
   "cell_type": "code",
   "execution_count": 35,
   "metadata": {},
   "outputs": [],
   "source": [
    "def nextState(state):\n",
    "    if state.man==Location.A:\n",
    "        otherSide = Location.B\n",
    "    else:\n",
    "        otherSide = Location.A\n",
    "    \n",
    "    move = partial(state._replace, man=otherSide)\n",
    "    children = [move()]\n",
    "\n",
    "    for character in [\"goat\", \"grass\", \"tiger\"]:\n",
    "        if getattr(state, character)==state.man:\n",
    "            children.append(move(** {character:otherSide}))\n",
    "        \n",
    "    yield from filter(isValid1, children)"
   ]
  },
  {
   "cell_type": "code",
   "execution_count": 36,
   "metadata": {},
   "outputs": [],
   "source": [
    "def search2(start, isGoal, neighbours):\n",
    "    parent = dict()\n",
    "    visit = [start]\n",
    "    visited = set([start])\n",
    "\n",
    "    while (visit):\n",
    "        vertex = visit.pop(0)\n",
    "        if isGoal(vertex):\n",
    "            path = []\n",
    "            while vertex is not None:\n",
    "                path.insert(0, vertex)\n",
    "                vertex = parent.get(vertex)\n",
    "            return path\n",
    "        for neighbour in neighbours(vertex):\n",
    "            if neighbour not in visited:\n",
    "                visited.add(neighbour)\n",
    "                parent[neighbour] = vertex\n",
    "                visit.append(neighbour)"
   ]
  },
  {
   "cell_type": "code",
   "execution_count": 39,
   "metadata": {},
   "outputs": [
    {
     "name": "stdout",
     "output_type": "stream",
     "text": [
      "[State(man=<Location.A: 1>, grass=<Location.A: 1>, goat=<Location.A: 1>, tiger=<Location.A: 1>), State(man=<Location.B: 2>, grass=<Location.A: 1>, goat=<Location.B: 2>, tiger=<Location.A: 1>), State(man=<Location.A: 1>, grass=<Location.A: 1>, goat=<Location.B: 2>, tiger=<Location.A: 1>), State(man=<Location.B: 2>, grass=<Location.B: 2>, goat=<Location.B: 2>, tiger=<Location.A: 1>), State(man=<Location.A: 1>, grass=<Location.B: 2>, goat=<Location.A: 1>, tiger=<Location.A: 1>), State(man=<Location.B: 2>, grass=<Location.B: 2>, goat=<Location.A: 1>, tiger=<Location.B: 2>), State(man=<Location.A: 1>, grass=<Location.B: 2>, goat=<Location.A: 1>, tiger=<Location.B: 2>), State(man=<Location.B: 2>, grass=<Location.B: 2>, goat=<Location.B: 2>, tiger=<Location.B: 2>)]\n"
     ]
    }
   ],
   "source": [
    "path = search2(start=start, isGoal=goal.__eq__, neighbours=nextState)\n",
    "print(path)"
   ]
  },
  {
   "cell_type": "code",
   "execution_count": 40,
   "metadata": {},
   "outputs": [],
   "source": [
    "def solution1(path):\n",
    "    for old, new in zip(path, path[1:]):\n",
    "        boat = [character for character in ['man', 'goat', 'grass', 'tiger'] if getattr(old, character)!=getattr(new, character)]\n",
    "        print(old.man, ' to ', new.man, boat)"
   ]
  },
  {
   "cell_type": "code",
   "execution_count": 41,
   "metadata": {},
   "outputs": [
    {
     "name": "stdout",
     "output_type": "stream",
     "text": [
      "Location.A  to  Location.B ['man', 'goat']\n",
      "Location.B  to  Location.A ['man']\n",
      "Location.A  to  Location.B ['man', 'grass']\n",
      "Location.B  to  Location.A ['man', 'goat']\n",
      "Location.A  to  Location.B ['man', 'tiger']\n",
      "Location.B  to  Location.A ['man']\n",
      "Location.A  to  Location.B ['man', 'goat']\n"
     ]
    }
   ],
   "source": [
    "solution1(path)"
   ]
  },
  {
   "attachments": {},
   "cell_type": "markdown",
   "metadata": {},
   "source": [
    "## Missionaries and Cannibals"
   ]
  },
  {
   "cell_type": "code",
   "execution_count": 42,
   "metadata": {},
   "outputs": [],
   "source": [
    "def isValid2(state):\n",
    "    if state[0]<0 or state[1]<0 or state[2]<0 or state[0]>3 or state[1]>3 or state[2]>1 or (0<state[0]<state[1]) or (0<(3-state[0])<(3-state[1])):\n",
    "        return False\n",
    "    else:\n",
    "        return True"
   ]
  },
  {
   "cell_type": "code",
   "execution_count": 43,
   "metadata": {},
   "outputs": [],
   "source": [
    "def generateStates(M, C, B):\n",
    "    moves = [[1, 0, 1], [0, 1, 1], [2, 0, 1], [0, 2, 1], [1, 1, 1]]\n",
    "    children = []\n",
    "    for each in moves:\n",
    "        if B==1:\n",
    "            nextState = [x1-x2 for (x1, x2) in zip([M, C, B], each)]\n",
    "        else:\n",
    "            nextState = [x1+x2 for (x1, x2) in zip([M, C, B], each)]\n",
    "        if isValid2(nextState):\n",
    "            children.append(nextState)\n",
    "    return children"
   ]
  },
  {
   "cell_type": "code",
   "execution_count": 56,
   "metadata": {},
   "outputs": [],
   "source": [
    "solution = []\n",
    "def solution2(M, C, B, visited):\n",
    "    if ([M, C, B]==[0, 0, 0]):\n",
    "        solution.append(visited+[[0, 0, 0,]])\n",
    "        return True\n",
    "    elif ([M, C, B] in visited):\n",
    "        return False\n",
    "    else:\n",
    "        visited.append([M, C, B])\n",
    "        if B==1:\n",
    "            for each in generateStates(M, C, B):\n",
    "                solution2(each[0], each[1], each[2], visited)\n",
    "        else:\n",
    "            for each in generateStates(M, C, B):\n",
    "                solution2(each[0], each[1], each[2], visited)"
   ]
  },
  {
   "cell_type": "code",
   "execution_count": 57,
   "metadata": {},
   "outputs": [
    {
     "name": "stdout",
     "output_type": "stream",
     "text": [
      "[[3, 3, 1], [3, 2, 0], [3, 1, 0], [3, 2, 1], [2, 2, 0], [3, 0, 0], [3, 1, 1], [1, 1, 0], [2, 2, 1], [0, 2, 0], [0, 3, 1], [0, 1, 0], [1, 1, 1], [0, 0, 0]]\n",
      "[[3, 3, 1], [3, 2, 0], [3, 1, 0], [3, 2, 1], [2, 2, 0], [3, 0, 0], [3, 1, 1], [1, 1, 0], [2, 2, 1], [0, 2, 0], [0, 3, 1], [0, 1, 0], [1, 1, 1], [0, 2, 1], [0, 0, 0]]\n"
     ]
    }
   ],
   "source": [
    "solution2(3, 3, 1, [])\n",
    "solution.sort()\n",
    "for each in solution:\n",
    "    print(each)"
   ]
  }
 ],
 "metadata": {
  "kernelspec": {
   "display_name": "Python 3",
   "language": "python",
   "name": "python3"
  },
  "language_info": {
   "codemirror_mode": {
    "name": "ipython",
    "version": 3
   },
   "file_extension": ".py",
   "mimetype": "text/x-python",
   "name": "python",
   "nbconvert_exporter": "python",
   "pygments_lexer": "ipython3",
   "version": "3.9.0"
  },
  "orig_nbformat": 4,
  "vscode": {
   "interpreter": {
    "hash": "7d64ab983efae51b1f801630447cf3c686f5af80baf4cb3f92a60ec915c464e3"
   }
  }
 },
 "nbformat": 4,
 "nbformat_minor": 2
}
